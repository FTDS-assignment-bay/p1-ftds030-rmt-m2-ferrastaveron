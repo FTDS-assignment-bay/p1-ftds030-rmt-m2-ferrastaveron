{
  "cells": [
    {
      "cell_type": "code",
      "execution_count": 1,
      "metadata": {
        "colab": {
          "base_uri": "https://localhost:8080/",
          "height": 706
        },
        "id": "2PT4mN65PDer",
        "outputId": "12f276e3-0264-41a0-e996-055a25499cb1"
      },
      "outputs": [],
      "source": [
        "# !pip install feature_engine"
      ]
    },
    {
      "cell_type": "code",
      "execution_count": 2,
      "metadata": {
        "id": "Rh_g4GpRO7Xu"
      },
      "outputs": [],
      "source": [
        "# import lagi libraries yang dibutuhkan\n",
        "import pandas as pd\n",
        "import numpy as np\n",
        "import seaborn as sns\n",
        "import matplotlib.pyplot as plt\n",
        "import statsmodels.api as sm\n",
        "import pickle\n",
        "import json\n",
        "import time\n",
        "import xgboost as xgb\n",
        "from matplotlib import colors\n",
        "from sklearn.model_selection import train_test_split, cross_val_score, GridSearchCV\n",
        "from sklearn.metrics import mean_squared_error, root_mean_squared_error, mean_absolute_error, r2_score\n",
        "from sklearn.preprocessing import OneHotEncoder, StandardScaler, RobustScaler, MinMaxScaler\n",
        "from sklearn.linear_model import LinearRegression\n",
        "from sklearn.metrics import classification_report, f1_score, precision_score, accuracy_score, recall_score\n",
        "from feature_engine.outliers import Winsorizer\n",
        "from sklearn.compose import ColumnTransformer\n",
        "from sklearn.pipeline import make_pipeline\n",
        "from sklearn.neighbors import KNeighborsRegressor\n",
        "from sklearn.svm import SVR\n",
        "from sklearn.ensemble import RandomForestRegressor, AdaBoostRegressor\n",
        "from sklearn.tree import DecisionTreeRegressor"
      ]
    },
    {
      "cell_type": "code",
      "execution_count": 3,
      "metadata": {
        "id": "D8czWLvqO6n1"
      },
      "outputs": [],
      "source": [
        "# panggil lagi model untuk inference\n",
        "with open('list_num_cols.txt', 'rb') as file_1:\n",
        "  num_col = json.load(file_1)\n",
        "\n",
        "with open('list_cat_cols.txt', 'rb') as file_2:\n",
        "  cat_col = json.load(file_2)\n",
        "\n",
        "with open('num_pipeline.pkl', 'rb') as file_3:\n",
        "  num_pipeline = pickle.load(file_3)\n",
        "\n",
        "with open('cat_pipeline.pkl', 'rb') as file_4:\n",
        "  cat_pipeline = pickle.load(file_4)\n",
        "\n",
        "with open('preprocessing.pkl', 'rb') as file_5:\n",
        "  preprocessing_pipeline = pickle.load(file_5)\n",
        "\n",
        "with open('xgboost.pkl', 'rb') as file_6:\n",
        "  xg = pickle.load(file_6)\n",
        "\n",
        "with open('pipe_xg_1.pkl', 'rb') as file_7:\n",
        "  pipe_xg = pickle.load(file_7)"
      ]
    },
    {
      "cell_type": "code",
      "execution_count": 4,
      "metadata": {
        "colab": {
          "base_uri": "https://localhost:8080/",
          "height": 81
        },
        "id": "DWKylflDRVAj",
        "outputId": "418f1170-bfdb-4eea-abdd-64f50b218db3"
      },
      "outputs": [
        {
          "data": {
            "text/html": [
              "<div>\n",
              "<style scoped>\n",
              "    .dataframe tbody tr th:only-of-type {\n",
              "        vertical-align: middle;\n",
              "    }\n",
              "\n",
              "    .dataframe tbody tr th {\n",
              "        vertical-align: top;\n",
              "    }\n",
              "\n",
              "    .dataframe thead th {\n",
              "        text-align: right;\n",
              "    }\n",
              "</style>\n",
              "<table border=\"1\" class=\"dataframe\">\n",
              "  <thead>\n",
              "    <tr style=\"text-align: right;\">\n",
              "      <th></th>\n",
              "      <th>min_players</th>\n",
              "      <th>max_players</th>\n",
              "      <th>playtime</th>\n",
              "      <th>min_age</th>\n",
              "      <th>complexity</th>\n",
              "      <th>owned_users</th>\n",
              "      <th>top_mechanics</th>\n",
              "      <th>top_domains</th>\n",
              "    </tr>\n",
              "  </thead>\n",
              "  <tbody>\n",
              "    <tr>\n",
              "      <th>0</th>\n",
              "      <td>1</td>\n",
              "      <td>4</td>\n",
              "      <td>10</td>\n",
              "      <td>10</td>\n",
              "      <td>5</td>\n",
              "      <td>5</td>\n",
              "      <td>Dice Rolling</td>\n",
              "      <td>Children's Games</td>\n",
              "    </tr>\n",
              "  </tbody>\n",
              "</table>\n",
              "</div>"
            ],
            "text/plain": [
              "   min_players  max_players  playtime  min_age  complexity  owned_users  \\\n",
              "0            1            4        10       10           5            5   \n",
              "\n",
              "  top_mechanics       top_domains  \n",
              "0  Dice Rolling  Children's Games  "
            ]
          },
          "execution_count": 4,
          "metadata": {},
          "output_type": "execute_result"
        }
      ],
      "source": [
        "# isi data baru untuk inference\n",
        "x_inf = {\n",
        "    'min_players':1,\n",
        "    'max_players':4,\n",
        "    'playtime':10,\n",
        "    'min_age':10,\n",
        "    'complexity':5,\n",
        "    'owned_users':5,\n",
        "    'top_mechanics':'Dice Rolling',\n",
        "    'top_domains':\"Children's Games\"\n",
        "}\n",
        "x_inf_df = pd.DataFrame([x_inf])\n",
        "x_inf_df"
      ]
    },
    {
      "cell_type": "code",
      "execution_count": 5,
      "metadata": {
        "colab": {
          "base_uri": "https://localhost:8080/"
        },
        "id": "PHKDmIV3SiGo",
        "outputId": "0bc1286f-e33c-4724-f430-90504a08b093"
      },
      "outputs": [
        {
          "data": {
            "text/plain": [
              "array([6.7244377], dtype=float32)"
            ]
          },
          "execution_count": 5,
          "metadata": {},
          "output_type": "execute_result"
        }
      ],
      "source": [
        "# lakukan prediksi rating pada data baru\n",
        "pred_inf = pipe_xg.predict(x_inf_df)\n",
        "pred_inf"
      ]
    },
    {
      "cell_type": "markdown",
      "metadata": {
        "id": "cQHEAg13UcIT"
      },
      "source": [
        "Didapatkan rating 6.72 dari fitur-fitur game baru yang saya inputkan."
      ]
    }
  ],
  "metadata": {
    "colab": {
      "provenance": []
    },
    "kernelspec": {
      "display_name": "Python 3",
      "name": "python3"
    },
    "language_info": {
      "codemirror_mode": {
        "name": "ipython",
        "version": 3
      },
      "file_extension": ".py",
      "mimetype": "text/x-python",
      "name": "python",
      "nbconvert_exporter": "python",
      "pygments_lexer": "ipython3",
      "version": "3.12.3"
    }
  },
  "nbformat": 4,
  "nbformat_minor": 0
}
